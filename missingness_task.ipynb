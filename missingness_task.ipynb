{
 "cells": [
  {
   "cell_type": "markdown",
   "id": "9ccfe7e7",
   "metadata": {},
   "source": [
    "# Data Loading and Missing Data Imputation\n",
    "\n",
    "This notebook loads the Adult, Breast Cancer Wisconsin, and Heart Disease datasets, checks for missing values, visualizes missingness patterns, and performs MICE (IterativeImputer) imputation."
   ]
  },
  {
   "cell_type": "code",
   "id": "0a3f5b52",
   "metadata": {},
   "source": [
    "import pandas as pd\n",
    "import numpy as np\n",
    "import matplotlib.pyplot as plt\n",
    "import missingno as msno\n",
    "from sklearn.experimental import enable_iterative_imputer  # noqa\n",
    "from sklearn.impute import IterativeImputer\n",
    "\n",
    "# Set plotting style\n",
    "%matplotlib inline"
   ],
   "outputs": [],
   "execution_count": null
  },
  {
   "cell_type": "code",
   "id": "856d51a3",
   "metadata": {},
   "source": [
    "# --- 1) LOAD DATA ---\n",
    "datasets = {\n",
    "    'adult': {\n",
    "        'path': 'adult.data',\n",
    "        'column_names': [\n",
    "            'age', 'workclass', 'fnlwgt', 'education', 'education-num',\n",
    "            'marital-status', 'occupation', 'relationship', 'race', 'sex',\n",
    "            'capital-gain', 'capital-loss', 'hours-per-week',\n",
    "            'native-country', 'income'\n",
    "        ]\n",
    "    },\n",
    "    'breast_cancer': {\n",
    "        'path': 'breast-cancer-wisconsin.data',\n",
    "        'column_names': [\n",
    "            'id', 'clump_thickness', 'uniformity_cell_size',\n",
    "            'uniformity_cell_shape', 'marginal_adhesion',\n",
    "            'single_epithelial_size', 'bare_nuclei', 'bland_chromatin',\n",
    "            'normal_nucleoli', 'mitoses', 'class'\n",
    "        ]\n",
    "    },\n",
    "    'heart_disease': {\n",
    "        'path': 'heart-disease.data',\n",
    "        'column_names': [\n",
    "            'age', 'sex', 'cp', 'trestbps', 'chol', 'fbs', 'restecg',\n",
    "            'thalach', 'exang', 'oldpeak', 'slope', 'ca', 'thal', 'target'\n",
    "        ]\n",
    "    }\n",
    "}\n",
    "\n",
    "dataframes = {}\n",
    "for name, meta in datasets.items():\n",
    "    df = pd.read_csv(\n",
    "        meta['path'],\n",
    "        names=meta['column_names'],\n",
    "        na_values='?',        # mark '?' as NaN\n",
    "        skipinitialspace=True  # strip spaces after commas\n",
    "    )\n",
    "    dataframes[name] = df\n",
    "    print(f\"Loaded {name}: {df.shape[0]} rows, {df.shape[1]} columns\")"
   ],
   "outputs": [],
   "execution_count": null
  },
  {
   "cell_type": "code",
   "id": "03bfb40f",
   "metadata": {},
   "source": [
    "# --- 2) MISSING VALUE SUMMARY & PATTERNS ---\n",
    "\n",
    "    # a) overall missing counts\n",
    "\n",
    "    # b) % missing by column\n",
    "\n",
    "    # c) visualize with missingno"
   ],
   "outputs": [],
   "execution_count": null
  },
  {
   "cell_type": "code",
   "id": "0965dcc3",
   "metadata": {},
   "source": [
    "# --- 3) MICE IMPUTATION ---\n",
    "# Example on the Breast Cancer dataset\n"
   ],
   "outputs": [],
   "execution_count": null
  }
 ],
 "metadata": {
  "kernelspec": {
   "display_name": "Python 3 (ipykernel)",
   "name": "python3",
   "language": "python"
  },
  "language_info": {
   "name": "python",
   "version": "3.x"
  }
 },
 "nbformat": 4,
 "nbformat_minor": 5
}
